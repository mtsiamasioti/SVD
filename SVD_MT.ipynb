{
 "cells": [
  {
   "cell_type": "code",
   "execution_count": 2,
   "id": "9085bb4b",
   "metadata": {
    "ExecuteTime": {
     "end_time": "2022-03-20T12:14:26.435444Z",
     "start_time": "2022-03-20T12:14:02.036822Z"
    }
   },
   "outputs": [
    {
     "name": "stderr",
     "output_type": "stream",
     "text": [
      "C:\\Users\\mtsia\\AppData\\Local\\Temp\\ipykernel_8392\\1157823357.py:1: DeprecationWarning: Importing display from IPython.core.display is deprecated since IPython 7.14, please import from IPython display\n",
      "  from IPython.core.display import display, HTML\n"
     ]
    },
    {
     "data": {
      "text/html": [
       "<style>.container { width:95% !important; }</style>"
      ],
      "text/plain": [
       "<IPython.core.display.HTML object>"
      ]
     },
     "metadata": {},
     "output_type": "display_data"
    }
   ],
   "source": [
    "from IPython.core.display import display, HTML\n",
    "display(HTML(\"<style>.container { width:95% !important; }</style>\"))\n",
    "import warnings\n",
    "warnings.filterwarnings(\"ignore\")\n",
    "import numpy as np\n",
    "import pandas as pd\n",
    "import matplotlib.pyplot as plt\n",
    "import seaborn as sns\n",
    "from matplotlib.colors import ListedColormap\n",
    "%matplotlib inline\n",
    "plt.style.use('ggplot')\n",
    "from numpy.linalg import svd\n",
    "from sklearn.metrics import accuracy_score\n",
    "from sklearn.metrics import confusion_matrix\n",
    "from sklearn.metrics import classification_report"
   ]
  },
  {
   "cell_type": "code",
   "execution_count": 3,
   "id": "29d002f1",
   "metadata": {
    "ExecuteTime": {
     "end_time": "2022-03-20T12:14:40.613240Z",
     "start_time": "2022-03-20T12:14:26.438446Z"
    }
   },
   "outputs": [
    {
     "name": "stdout",
     "output_type": "stream",
     "text": [
      "Shape of X_train: (1707, 256), y_train: (1707, 1)\n",
      "Shape of X_test: (2007, 256), y_test: (2007, 1)\n"
     ]
    }
   ],
   "source": [
    "#TRAIN DATA\n",
    "X_train = pd.read_excel('data.xlsx', sheet_name = 'azip', header=None).T # training images (each image is 16x16)\n",
    "y_train = pd.read_excel('data.xlsx', sheet_name = 'dzip', header=None).T # vector that holds the digits (the number)\n",
    "\n",
    "#TEST DATA\n",
    "X_test = pd.read_excel('data.xlsx', sheet_name = 'testzip', header=None).T\n",
    "y_test = pd.read_excel('data.xlsx', sheet_name = 'dtest', header=None).T\n",
    "\n",
    "print(f'Shape of X_train: {X_train.shape}, y_train: {y_train.shape}\\nShape of X_test: {X_test.shape}, y_test: {y_test.shape}')\n",
    "#Each row is an image, each column is a feature (indicator of one of the 256 pixels of the 16x16 image)"
   ]
  },
  {
   "cell_type": "code",
   "execution_count": 4,
   "id": "98539956",
   "metadata": {
    "ExecuteTime": {
     "end_time": "2022-03-20T12:14:40.675231Z",
     "start_time": "2022-03-20T12:14:40.616239Z"
    },
    "cell_style": "center"
   },
   "outputs": [
    {
     "data": {
      "text/html": [
       "<div>\n",
       "<style scoped>\n",
       "    .dataframe tbody tr th:only-of-type {\n",
       "        vertical-align: middle;\n",
       "    }\n",
       "\n",
       "    .dataframe tbody tr th {\n",
       "        vertical-align: top;\n",
       "    }\n",
       "\n",
       "    .dataframe thead th {\n",
       "        text-align: right;\n",
       "    }\n",
       "</style>\n",
       "<table border=\"1\" class=\"dataframe\">\n",
       "  <thead>\n",
       "    <tr style=\"text-align: right;\">\n",
       "      <th></th>\n",
       "      <th>0</th>\n",
       "      <th>1</th>\n",
       "      <th>2</th>\n",
       "      <th>3</th>\n",
       "      <th>4</th>\n",
       "      <th>5</th>\n",
       "      <th>6</th>\n",
       "      <th>7</th>\n",
       "      <th>8</th>\n",
       "      <th>9</th>\n",
       "      <th>...</th>\n",
       "      <th>246</th>\n",
       "      <th>247</th>\n",
       "      <th>248</th>\n",
       "      <th>249</th>\n",
       "      <th>250</th>\n",
       "      <th>251</th>\n",
       "      <th>252</th>\n",
       "      <th>253</th>\n",
       "      <th>254</th>\n",
       "      <th>255</th>\n",
       "    </tr>\n",
       "  </thead>\n",
       "  <tbody>\n",
       "    <tr>\n",
       "      <th>0</th>\n",
       "      <td>-1.0</td>\n",
       "      <td>-1.0</td>\n",
       "      <td>-1.0</td>\n",
       "      <td>-1.000</td>\n",
       "      <td>-1.000</td>\n",
       "      <td>-1.000</td>\n",
       "      <td>-1.000</td>\n",
       "      <td>-0.631</td>\n",
       "      <td>0.862</td>\n",
       "      <td>-0.167</td>\n",
       "      <td>...</td>\n",
       "      <td>0.304</td>\n",
       "      <td>0.823</td>\n",
       "      <td>1.000</td>\n",
       "      <td>0.482</td>\n",
       "      <td>-0.474</td>\n",
       "      <td>-0.991</td>\n",
       "      <td>-1.000</td>\n",
       "      <td>-1.000</td>\n",
       "      <td>-1.000</td>\n",
       "      <td>-1.0</td>\n",
       "    </tr>\n",
       "    <tr>\n",
       "      <th>1</th>\n",
       "      <td>-1.0</td>\n",
       "      <td>-1.0</td>\n",
       "      <td>-1.0</td>\n",
       "      <td>-0.813</td>\n",
       "      <td>-0.671</td>\n",
       "      <td>-0.809</td>\n",
       "      <td>-0.887</td>\n",
       "      <td>-0.671</td>\n",
       "      <td>-0.853</td>\n",
       "      <td>-1.000</td>\n",
       "      <td>...</td>\n",
       "      <td>-0.671</td>\n",
       "      <td>-0.671</td>\n",
       "      <td>-0.033</td>\n",
       "      <td>0.761</td>\n",
       "      <td>0.762</td>\n",
       "      <td>0.126</td>\n",
       "      <td>-0.095</td>\n",
       "      <td>-0.671</td>\n",
       "      <td>-0.828</td>\n",
       "      <td>-1.0</td>\n",
       "    </tr>\n",
       "    <tr>\n",
       "      <th>2</th>\n",
       "      <td>-1.0</td>\n",
       "      <td>-1.0</td>\n",
       "      <td>-1.0</td>\n",
       "      <td>-1.000</td>\n",
       "      <td>-1.000</td>\n",
       "      <td>-1.000</td>\n",
       "      <td>-1.000</td>\n",
       "      <td>-1.000</td>\n",
       "      <td>-1.000</td>\n",
       "      <td>-0.996</td>\n",
       "      <td>...</td>\n",
       "      <td>-1.000</td>\n",
       "      <td>-1.000</td>\n",
       "      <td>-1.000</td>\n",
       "      <td>-0.109</td>\n",
       "      <td>1.000</td>\n",
       "      <td>-0.179</td>\n",
       "      <td>-1.000</td>\n",
       "      <td>-1.000</td>\n",
       "      <td>-1.000</td>\n",
       "      <td>-1.0</td>\n",
       "    </tr>\n",
       "    <tr>\n",
       "      <th>3</th>\n",
       "      <td>-1.0</td>\n",
       "      <td>-1.0</td>\n",
       "      <td>-1.0</td>\n",
       "      <td>-1.000</td>\n",
       "      <td>-1.000</td>\n",
       "      <td>-0.273</td>\n",
       "      <td>0.684</td>\n",
       "      <td>0.960</td>\n",
       "      <td>0.450</td>\n",
       "      <td>-0.067</td>\n",
       "      <td>...</td>\n",
       "      <td>-0.318</td>\n",
       "      <td>1.000</td>\n",
       "      <td>0.536</td>\n",
       "      <td>-0.987</td>\n",
       "      <td>-1.000</td>\n",
       "      <td>-1.000</td>\n",
       "      <td>-1.000</td>\n",
       "      <td>-1.000</td>\n",
       "      <td>-1.000</td>\n",
       "      <td>-1.0</td>\n",
       "    </tr>\n",
       "    <tr>\n",
       "      <th>4</th>\n",
       "      <td>-1.0</td>\n",
       "      <td>-1.0</td>\n",
       "      <td>-1.0</td>\n",
       "      <td>-1.000</td>\n",
       "      <td>-1.000</td>\n",
       "      <td>-0.928</td>\n",
       "      <td>-0.204</td>\n",
       "      <td>0.751</td>\n",
       "      <td>0.466</td>\n",
       "      <td>0.234</td>\n",
       "      <td>...</td>\n",
       "      <td>0.466</td>\n",
       "      <td>0.639</td>\n",
       "      <td>1.000</td>\n",
       "      <td>1.000</td>\n",
       "      <td>0.791</td>\n",
       "      <td>0.439</td>\n",
       "      <td>-0.199</td>\n",
       "      <td>-0.883</td>\n",
       "      <td>-1.000</td>\n",
       "      <td>-1.0</td>\n",
       "    </tr>\n",
       "  </tbody>\n",
       "</table>\n",
       "<p>5 rows × 256 columns</p>\n",
       "</div>"
      ],
      "text/plain": [
       "   0    1    2      3      4      5      6      7      8      9    ...    246  \\\n",
       "0 -1.0 -1.0 -1.0 -1.000 -1.000 -1.000 -1.000 -0.631  0.862 -0.167  ...  0.304   \n",
       "1 -1.0 -1.0 -1.0 -0.813 -0.671 -0.809 -0.887 -0.671 -0.853 -1.000  ... -0.671   \n",
       "2 -1.0 -1.0 -1.0 -1.000 -1.000 -1.000 -1.000 -1.000 -1.000 -0.996  ... -1.000   \n",
       "3 -1.0 -1.0 -1.0 -1.000 -1.000 -0.273  0.684  0.960  0.450 -0.067  ... -0.318   \n",
       "4 -1.0 -1.0 -1.0 -1.000 -1.000 -0.928 -0.204  0.751  0.466  0.234  ...  0.466   \n",
       "\n",
       "     247    248    249    250    251    252    253    254  255  \n",
       "0  0.823  1.000  0.482 -0.474 -0.991 -1.000 -1.000 -1.000 -1.0  \n",
       "1 -0.671 -0.033  0.761  0.762  0.126 -0.095 -0.671 -0.828 -1.0  \n",
       "2 -1.000 -1.000 -0.109  1.000 -0.179 -1.000 -1.000 -1.000 -1.0  \n",
       "3  1.000  0.536 -0.987 -1.000 -1.000 -1.000 -1.000 -1.000 -1.0  \n",
       "4  0.639  1.000  1.000  0.791  0.439 -0.199 -0.883 -1.000 -1.0  \n",
       "\n",
       "[5 rows x 256 columns]"
      ]
     },
     "execution_count": 4,
     "metadata": {},
     "output_type": "execute_result"
    }
   ],
   "source": [
    "X_train.head()"
   ]
  },
  {
   "cell_type": "code",
   "execution_count": 5,
   "id": "d5f62939",
   "metadata": {
    "ExecuteTime": {
     "end_time": "2022-03-20T12:14:40.691173Z",
     "start_time": "2022-03-20T12:14:40.677237Z"
    },
    "cell_style": "center"
   },
   "outputs": [
    {
     "data": {
      "text/html": [
       "<div>\n",
       "<style scoped>\n",
       "    .dataframe tbody tr th:only-of-type {\n",
       "        vertical-align: middle;\n",
       "    }\n",
       "\n",
       "    .dataframe tbody tr th {\n",
       "        vertical-align: top;\n",
       "    }\n",
       "\n",
       "    .dataframe thead th {\n",
       "        text-align: right;\n",
       "    }\n",
       "</style>\n",
       "<table border=\"1\" class=\"dataframe\">\n",
       "  <thead>\n",
       "    <tr style=\"text-align: right;\">\n",
       "      <th></th>\n",
       "      <th>0</th>\n",
       "    </tr>\n",
       "  </thead>\n",
       "  <tbody>\n",
       "    <tr>\n",
       "      <th>0</th>\n",
       "      <td>6</td>\n",
       "    </tr>\n",
       "    <tr>\n",
       "      <th>1</th>\n",
       "      <td>5</td>\n",
       "    </tr>\n",
       "    <tr>\n",
       "      <th>2</th>\n",
       "      <td>4</td>\n",
       "    </tr>\n",
       "    <tr>\n",
       "      <th>3</th>\n",
       "      <td>7</td>\n",
       "    </tr>\n",
       "    <tr>\n",
       "      <th>4</th>\n",
       "      <td>3</td>\n",
       "    </tr>\n",
       "  </tbody>\n",
       "</table>\n",
       "</div>"
      ],
      "text/plain": [
       "   0\n",
       "0  6\n",
       "1  5\n",
       "2  4\n",
       "3  7\n",
       "4  3"
      ]
     },
     "execution_count": 5,
     "metadata": {},
     "output_type": "execute_result"
    }
   ],
   "source": [
    "y_train.head()"
   ]
  },
  {
   "cell_type": "code",
   "execution_count": 6,
   "id": "ba8c470f",
   "metadata": {
    "ExecuteTime": {
     "end_time": "2022-03-20T12:14:40.707196Z",
     "start_time": "2022-03-20T12:14:40.694172Z"
    }
   },
   "outputs": [],
   "source": [
    "def ima2(A: np.array, colormap: str='binary') -> None:\n",
    "    '''\n",
    "    Translate vector to become nonnegative \n",
    "    Scale to interval [0,20], https://stackoverflow.com/questions/50305206/how-to-normalize-array-between-1-and-10\n",
    "    Reshape the vector as a matrix and then show image \n",
    "    '''\n",
    "    if isinstance(A, pd.Series):\n",
    "        A = A.values #A is a column of X_train -- a digit\n",
    "    #A = (256*A).astype(np.uint8)\n",
    "    A = A.reshape(16,16)\n",
    "    A = (A - A.min())/(A.max() - A.min()) * 20\n",
    "    \n",
    "    #colormap = [1.0000, 1.0000, 1.0000, 0.8715, 0.9028, 0.9028, 0.7431, 0.8056, 0.8056, 0.6146, 0.7083, 0.7083, 0.4861, 0.6111, 0.6111, 0.3889, 0.4722, 0.5139, 0.2917, 0.3333, 0.4167, 0.1944, 0.1944, 0.3194, 0.0972, 0.0972, 0.1806, 0, 0, 0.0417]\n",
    "    #colors = ListedColormap(colormap)\n",
    "    plt.axis('off')\n",
    "    plt.imshow(A, cmap=colormap) "
   ]
  },
  {
   "cell_type": "code",
   "execution_count": 7,
   "id": "c15aedc0",
   "metadata": {
    "ExecuteTime": {
     "end_time": "2022-03-20T12:14:40.722218Z",
     "start_time": "2022-03-20T12:14:40.709196Z"
    }
   },
   "outputs": [],
   "source": [
    "#Training: For the training set of known digits, compute the SVD of each set of digits of one kind.\n",
    "def svd_computation(X, y):\n",
    "    \n",
    "    #Empty lists for left,right singular and singular matrix\n",
    "    u = []\n",
    "    s = []\n",
    "    v_t = []\n",
    "\n",
    "    for i in range(len(y.iloc[:,0].unique())): #0-9\n",
    "    \n",
    "        #Create new DataFrame for each digit\n",
    "        digit = X[y.iloc[:,0] == i].T\n",
    "    \n",
    "        u.append(svd(digit, full_matrices=False)[0])\n",
    "        s.append(svd(digit, full_matrices=False)[1]) #singular matrix\n",
    "        v_t.append(svd(digit, full_matrices=False)[2])\n",
    "\n",
    "    return u, s, v_t #returns 3 lists, each contains 10 matrixes. to index: [grab u,s or v_t][grab digit]"
   ]
  },
  {
   "cell_type": "code",
   "execution_count": 8,
   "id": "3b65624d",
   "metadata": {
    "ExecuteTime": {
     "end_time": "2022-03-20T12:14:42.069055Z",
     "start_time": "2022-03-20T12:14:40.725219Z"
    }
   },
   "outputs": [],
   "source": [
    "u_k = svd_computation(X_train, y_train)[0]"
   ]
  },
  {
   "cell_type": "code",
   "execution_count": 9,
   "id": "f974cf0a",
   "metadata": {
    "ExecuteTime": {
     "end_time": "2022-03-20T12:14:42.085050Z",
     "start_time": "2022-03-20T12:14:42.072056Z"
    }
   },
   "outputs": [],
   "source": [
    "#Classification: For a given test digit, compute its relative residual in all bases. If one residual is significantly smaller than all the others, classify as that. Otherwise give up.\n",
    "def classification(X, y, basis):\n",
    "    \n",
    "    I = np.eye(X.shape[1])\n",
    "    predictions = []\n",
    "    \n",
    "    for image in range(X.shape[0]): #X.shape[0] -- 2007 images\n",
    "        #iterate through all images \n",
    "        errors = []\n",
    "        \n",
    "        for j in range(len(y.iloc[:,0].unique())):\n",
    "            z = X.iloc[image,:]\n",
    "            #iterate through u vectors of each digits and calculate 10 errors\n",
    "            #U_k = svd_computation(X_train, y_train)[0][j][:,:k] #keep first k lines of u\n",
    "            error = np.linalg.norm((I - u_k[j][:,:basis].dot(u_k[j][:,:basis].T)).dot(z), 2)\n",
    "            errors.append(error)\n",
    "            \n",
    "        predictions.append(np.argmin(errors))\n",
    "            \n",
    "    return np.asarray(predictions)"
   ]
  },
  {
   "cell_type": "code",
   "execution_count": 10,
   "id": "ca32eac9",
   "metadata": {
    "ExecuteTime": {
     "end_time": "2022-03-20T12:14:52.316097Z",
     "start_time": "2022-03-20T12:14:42.087050Z"
    }
   },
   "outputs": [],
   "source": [
    "predictions = classification(X_test, y_test, 20) "
   ]
  },
  {
   "cell_type": "markdown",
   "id": "4cdf9c7e",
   "metadata": {},
   "source": [
    "### SPECIFIC TASKS"
   ]
  },
  {
   "cell_type": "markdown",
   "id": "0cbf0348",
   "metadata": {},
   "source": [
    "##### (1)  Tune the algorithm for accuracy of classification. Give a table or graph of the percentage of correctly classified digits as a function of the number of basis vectors."
   ]
  },
  {
   "cell_type": "code",
   "execution_count": 11,
   "id": "a108c12a",
   "metadata": {
    "ExecuteTime": {
     "end_time": "2022-03-20T12:17:34.297268Z",
     "start_time": "2022-03-20T12:14:52.317097Z"
    }
   },
   "outputs": [],
   "source": [
    "tuning = pd.DataFrame({'Basis': np.arange(5,21)})\n",
    "accuracy = []\n",
    "\n",
    "for basis in range(5,21):\n",
    "    predictions = classification(X_test, y_test, basis)\n",
    "    accuracy.append(accuracy_score(predictions, y_test))\n",
    "    \n",
    "tuning['Accuracy'] = np.asarray(accuracy)"
   ]
  },
  {
   "cell_type": "code",
   "execution_count": 12,
   "id": "44e0348c",
   "metadata": {
    "ExecuteTime": {
     "end_time": "2022-03-20T12:17:34.312262Z",
     "start_time": "2022-03-20T12:17:34.299266Z"
    }
   },
   "outputs": [
    {
     "data": {
      "text/html": [
       "<div>\n",
       "<style scoped>\n",
       "    .dataframe tbody tr th:only-of-type {\n",
       "        vertical-align: middle;\n",
       "    }\n",
       "\n",
       "    .dataframe tbody tr th {\n",
       "        vertical-align: top;\n",
       "    }\n",
       "\n",
       "    .dataframe thead th {\n",
       "        text-align: right;\n",
       "    }\n",
       "</style>\n",
       "<table border=\"1\" class=\"dataframe\">\n",
       "  <thead>\n",
       "    <tr style=\"text-align: right;\">\n",
       "      <th></th>\n",
       "      <th>Basis</th>\n",
       "      <th>Accuracy</th>\n",
       "    </tr>\n",
       "  </thead>\n",
       "  <tbody>\n",
       "    <tr>\n",
       "      <th>0</th>\n",
       "      <td>5</td>\n",
       "      <td>0.902840</td>\n",
       "    </tr>\n",
       "    <tr>\n",
       "      <th>1</th>\n",
       "      <td>6</td>\n",
       "      <td>0.905331</td>\n",
       "    </tr>\n",
       "    <tr>\n",
       "      <th>2</th>\n",
       "      <td>7</td>\n",
       "      <td>0.916791</td>\n",
       "    </tr>\n",
       "    <tr>\n",
       "      <th>3</th>\n",
       "      <td>8</td>\n",
       "      <td>0.920279</td>\n",
       "    </tr>\n",
       "    <tr>\n",
       "      <th>4</th>\n",
       "      <td>9</td>\n",
       "      <td>0.926258</td>\n",
       "    </tr>\n",
       "    <tr>\n",
       "      <th>5</th>\n",
       "      <td>10</td>\n",
       "      <td>0.931739</td>\n",
       "    </tr>\n",
       "    <tr>\n",
       "      <th>6</th>\n",
       "      <td>11</td>\n",
       "      <td>0.932237</td>\n",
       "    </tr>\n",
       "    <tr>\n",
       "      <th>7</th>\n",
       "      <td>12</td>\n",
       "      <td>0.935725</td>\n",
       "    </tr>\n",
       "    <tr>\n",
       "      <th>8</th>\n",
       "      <td>13</td>\n",
       "      <td>0.936223</td>\n",
       "    </tr>\n",
       "    <tr>\n",
       "      <th>9</th>\n",
       "      <td>14</td>\n",
       "      <td>0.939213</td>\n",
       "    </tr>\n",
       "    <tr>\n",
       "      <th>10</th>\n",
       "      <td>15</td>\n",
       "      <td>0.941206</td>\n",
       "    </tr>\n",
       "    <tr>\n",
       "      <th>11</th>\n",
       "      <td>16</td>\n",
       "      <td>0.938714</td>\n",
       "    </tr>\n",
       "    <tr>\n",
       "      <th>12</th>\n",
       "      <td>17</td>\n",
       "      <td>0.939213</td>\n",
       "    </tr>\n",
       "    <tr>\n",
       "      <th>13</th>\n",
       "      <td>18</td>\n",
       "      <td>0.941704</td>\n",
       "    </tr>\n",
       "    <tr>\n",
       "      <th>14</th>\n",
       "      <td>19</td>\n",
       "      <td>0.940708</td>\n",
       "    </tr>\n",
       "    <tr>\n",
       "      <th>15</th>\n",
       "      <td>20</td>\n",
       "      <td>0.939711</td>\n",
       "    </tr>\n",
       "  </tbody>\n",
       "</table>\n",
       "</div>"
      ],
      "text/plain": [
       "    Basis  Accuracy\n",
       "0       5  0.902840\n",
       "1       6  0.905331\n",
       "2       7  0.916791\n",
       "3       8  0.920279\n",
       "4       9  0.926258\n",
       "5      10  0.931739\n",
       "6      11  0.932237\n",
       "7      12  0.935725\n",
       "8      13  0.936223\n",
       "9      14  0.939213\n",
       "10     15  0.941206\n",
       "11     16  0.938714\n",
       "12     17  0.939213\n",
       "13     18  0.941704\n",
       "14     19  0.940708\n",
       "15     20  0.939711"
      ]
     },
     "execution_count": 12,
     "metadata": {},
     "output_type": "execute_result"
    }
   ],
   "source": [
    "tuning"
   ]
  },
  {
   "cell_type": "code",
   "execution_count": 13,
   "id": "548eec76",
   "metadata": {
    "ExecuteTime": {
     "end_time": "2022-03-20T12:17:34.327257Z",
     "start_time": "2022-03-20T12:17:34.314261Z"
    }
   },
   "outputs": [
    {
     "data": {
      "text/plain": [
       "18"
      ]
     },
     "execution_count": 13,
     "metadata": {},
     "output_type": "execute_result"
    }
   ],
   "source": [
    "tuning.Basis[tuning.Accuracy == max(tuning.Accuracy)].values[0]"
   ]
  },
  {
   "cell_type": "code",
   "execution_count": 14,
   "id": "4ee1573c",
   "metadata": {
    "ExecuteTime": {
     "end_time": "2022-03-20T12:17:34.501731Z",
     "start_time": "2022-03-20T12:17:34.329257Z"
    }
   },
   "outputs": [
    {
     "data": {
      "image/png": "[encoded data removed]",
      "text/plain": [
       "<Figure size 432x288 with 1 Axes>"
      ]
     },
     "metadata": {},
     "output_type": "display_data"
    }
   ],
   "source": [
    "sns.lineplot(x=\"Basis\", y=\"Accuracy\", data=tuning, marker=\"o\");"
   ]
  },
  {
   "cell_type": "markdown",
   "id": "0108862d",
   "metadata": {},
   "source": [
    "##### (2) Check if all digits are equally easy or difficult to classify. Also look at some of the difficult ones, and see that in many cases they are very badly written."
   ]
  },
  {
   "cell_type": "code",
   "execution_count": 15,
   "id": "01628fab",
   "metadata": {
    "ExecuteTime": {
     "end_time": "2022-03-20T12:17:44.850753Z",
     "start_time": "2022-03-20T12:17:34.503731Z"
    }
   },
   "outputs": [],
   "source": [
    "ideal_basis = tuning.Basis[tuning.Accuracy == max(tuning.Accuracy)].values[0]\n",
    "predictions = classification(X_test, y_test, ideal_basis)\n",
    "conf_matrix = confusion_matrix(y_test, predictions)"
   ]
  },
  {
   "cell_type": "code",
   "execution_count": 16,
   "id": "2160749b",
   "metadata": {
    "ExecuteTime": {
     "end_time": "2022-03-20T12:17:45.010701Z",
     "start_time": "2022-03-20T12:17:44.851753Z"
    }
   },
   "outputs": [
    {
     "data": {
      "text/plain": [
       "<AxesSubplot:>"
      ]
     },
     "execution_count": 16,
     "metadata": {},
     "output_type": "execute_result"
    },
    {
     "data": {
      "image/png": "[encoded data removed]",
      "text/plain": [
       "<Figure size 432x288 with 1 Axes>"
      ]
     },
     "metadata": {},
     "output_type": "display_data"
    }
   ],
   "source": [
    "#check if dataset is balanced\n",
    "y_train.iloc[:,0].value_counts().plot.bar()"
   ]
  },
  {
   "cell_type": "code",
   "execution_count": 33,
   "id": "96d1d6c5",
   "metadata": {
    "ExecuteTime": {
     "end_time": "2022-03-20T12:29:19.639878Z",
     "start_time": "2022-03-20T12:29:19.138033Z"
    }
   },
   "outputs": [
    {
     "data": {
      "image/png": "[encoded data removed]",
      "text/plain": [
       "<Figure size 864x432 with 2 Axes>"
      ]
     },
     "metadata": {},
     "output_type": "display_data"
    }
   ],
   "source": [
    "plt.figure(figsize=(12,6))\n",
    "ax= plt.subplot()\n",
    "sns.heatmap(conf_matrix, linewidths=1, annot=True, fmt='g', cmap=\"PiYG\");\n",
    "ax.set_xlabel('Predicted labels')\n",
    "ax.set_ylabel('True labels');"
   ]
  },
  {
   "cell_type": "code",
   "execution_count": 18,
   "id": "2500cc78",
   "metadata": {
    "ExecuteTime": {
     "end_time": "2022-03-20T12:17:45.616522Z",
     "start_time": "2022-03-20T12:17:45.573523Z"
    }
   },
   "outputs": [
    {
     "data": {
      "text/plain": [
       "5    0.906752\n",
       "3    0.909091\n",
       "4    0.915842\n",
       "9    0.921788\n",
       "2    0.927083\n",
       "8    0.930091\n",
       "7    0.952703\n",
       "0    0.963365\n",
       "6    0.973134\n",
       "1    0.977358\n",
       "Name: f1-score, dtype: float64"
      ]
     },
     "execution_count": 18,
     "metadata": {},
     "output_type": "execute_result"
    }
   ],
   "source": [
    "report = pd.DataFrame(classification_report(y_test.iloc[:,0],predictions, output_dict=True)).T\n",
    "report[:10]['f1-score'].sort_values()"
   ]
  },
  {
   "cell_type": "markdown",
   "id": "9cdd0dad",
   "metadata": {},
   "source": [
    "As we see, the digits that are the least accuratrly classified based on the f1-score are 5 and 3:"
   ]
  },
  {
   "cell_type": "code",
   "execution_count": 19,
   "id": "dd4cc976",
   "metadata": {
    "ExecuteTime": {
     "end_time": "2022-03-20T12:17:45.632504Z",
     "start_time": "2022-03-20T12:17:45.620509Z"
    }
   },
   "outputs": [],
   "source": [
    "combined = pd.DataFrame({'y_test': y_test.iloc[:,0].values, 'predictions': predictions})"
   ]
  },
  {
   "cell_type": "code",
   "execution_count": 20,
   "id": "6c618af6",
   "metadata": {
    "ExecuteTime": {
     "end_time": "2022-03-20T12:17:46.831896Z",
     "start_time": "2022-03-20T12:17:45.635503Z"
    }
   },
   "outputs": [
    {
     "data": {
      "image/png": "[encoded data removed]",
      "text/plain": [
       "<Figure size 1152x576 with 16 Axes>"
      ]
     },
     "metadata": {},
     "output_type": "display_data"
    }
   ],
   "source": [
    "#Missclassified digit: 3\n",
    "wrong_3 = combined[combined.y_test == 3][combined.y_test != combined.predictions]\n",
    "\n",
    "plt.figure(figsize=(16,8))\n",
    "count = 0\n",
    "for i in wrong_3.index:\n",
    "    plt.subplot(2, 8, count +1)\n",
    "    count +=1\n",
    "    ima2(X_test.iloc[i, :])"
   ]
  },
  {
   "cell_type": "code",
   "execution_count": 21,
   "id": "de34c4b4",
   "metadata": {
    "ExecuteTime": {
     "end_time": "2022-03-20T12:17:47.321343Z",
     "start_time": "2022-03-20T12:17:46.834894Z"
    }
   },
   "outputs": [
    {
     "data": {
      "image/png": "[encoded data removed]",
      "text/plain": [
       "<Figure size 1152x576 with 19 Axes>"
      ]
     },
     "metadata": {},
     "output_type": "display_data"
    }
   ],
   "source": [
    "#Missclassified digit: 5\n",
    "wrong_5 = combined[combined.y_test == 5][combined.y_test != combined.predictions]\n",
    "\n",
    "plt.figure(figsize=(16,8))\n",
    "count = 0\n",
    "for i in wrong_5.index:\n",
    "    plt.subplot(2, 10, count + 1)\n",
    "    count +=1\n",
    "    ima2(X_test.iloc[i, :])"
   ]
  },
  {
   "cell_type": "markdown",
   "id": "cf2df7f3",
   "metadata": {},
   "source": [
    "##### (3) Check the singular values of the different classes. Is it motivated to use different numbers of basis vectors for different classes? If so, perform a few experiments to find out if it really pays off to use fewer basis vectors in one or two of the classes."
   ]
  },
  {
   "cell_type": "markdown",
   "id": "01f17ed0",
   "metadata": {},
   "source": [
    "As we saw above, the optimal value of basis vectors is k=18. This number is optimal for all classes combined, not taking into account the classification of each digit seperately. The question that arises is whether a different value for k for each class-digit would work better in classifying a new digit. The singular values matrix contains 100% of the information of the initial matrix X_train. If we use the first 18 singular vector, how much % of total infromation do we get for each digit?"
   ]
  },
  {
   "cell_type": "code",
   "execution_count": 22,
   "id": "67ca2758",
   "metadata": {
    "ExecuteTime": {
     "end_time": "2022-03-20T12:17:48.692913Z",
     "start_time": "2022-03-20T12:17:47.324339Z"
    }
   },
   "outputs": [
    {
     "data": {
      "text/html": [
       "<div>\n",
       "<style scoped>\n",
       "    .dataframe tbody tr th:only-of-type {\n",
       "        vertical-align: middle;\n",
       "    }\n",
       "\n",
       "    .dataframe tbody tr th {\n",
       "        vertical-align: top;\n",
       "    }\n",
       "\n",
       "    .dataframe thead th {\n",
       "        text-align: right;\n",
       "    }\n",
       "</style>\n",
       "<table border=\"1\" class=\"dataframe\">\n",
       "  <thead>\n",
       "    <tr style=\"text-align: right;\">\n",
       "      <th></th>\n",
       "      <th>0</th>\n",
       "      <th>1</th>\n",
       "      <th>2</th>\n",
       "      <th>3</th>\n",
       "      <th>4</th>\n",
       "      <th>5</th>\n",
       "      <th>6</th>\n",
       "      <th>7</th>\n",
       "      <th>8</th>\n",
       "      <th>9</th>\n",
       "      <th>10</th>\n",
       "      <th>11</th>\n",
       "      <th>12</th>\n",
       "      <th>13</th>\n",
       "      <th>14</th>\n",
       "      <th>15</th>\n",
       "      <th>16</th>\n",
       "      <th>17</th>\n",
       "    </tr>\n",
       "  </thead>\n",
       "  <tbody>\n",
       "    <tr>\n",
       "      <th>0</th>\n",
       "      <td>184.447498</td>\n",
       "      <td>97.593884</td>\n",
       "      <td>62.050613</td>\n",
       "      <td>54.149312</td>\n",
       "      <td>41.060201</td>\n",
       "      <td>40.368471</td>\n",
       "      <td>36.282942</td>\n",
       "      <td>30.023087</td>\n",
       "      <td>29.001073</td>\n",
       "      <td>24.949545</td>\n",
       "      <td>23.142277</td>\n",
       "      <td>20.029451</td>\n",
       "      <td>19.870917</td>\n",
       "      <td>19.046537</td>\n",
       "      <td>18.360257</td>\n",
       "      <td>17.835228</td>\n",
       "      <td>17.526940</td>\n",
       "      <td>16.693415</td>\n",
       "    </tr>\n",
       "    <tr>\n",
       "      <th>1</th>\n",
       "      <td>234.041517</td>\n",
       "      <td>41.930906</td>\n",
       "      <td>24.849243</td>\n",
       "      <td>16.294807</td>\n",
       "      <td>13.610955</td>\n",
       "      <td>12.521781</td>\n",
       "      <td>11.228837</td>\n",
       "      <td>10.668493</td>\n",
       "      <td>8.413382</td>\n",
       "      <td>8.321270</td>\n",
       "      <td>8.040238</td>\n",
       "      <td>7.486697</td>\n",
       "      <td>6.909096</td>\n",
       "      <td>6.213995</td>\n",
       "      <td>6.004267</td>\n",
       "      <td>5.498721</td>\n",
       "      <td>5.275816</td>\n",
       "      <td>4.902657</td>\n",
       "    </tr>\n",
       "    <tr>\n",
       "      <th>2</th>\n",
       "      <td>138.283700</td>\n",
       "      <td>57.397394</td>\n",
       "      <td>46.395696</td>\n",
       "      <td>40.960031</td>\n",
       "      <td>37.505307</td>\n",
       "      <td>33.531600</td>\n",
       "      <td>32.237997</td>\n",
       "      <td>28.406120</td>\n",
       "      <td>27.120125</td>\n",
       "      <td>26.734988</td>\n",
       "      <td>24.898081</td>\n",
       "      <td>23.419079</td>\n",
       "      <td>22.442951</td>\n",
       "      <td>21.438898</td>\n",
       "      <td>20.677361</td>\n",
       "      <td>19.333201</td>\n",
       "      <td>18.644012</td>\n",
       "      <td>18.286461</td>\n",
       "    </tr>\n",
       "    <tr>\n",
       "      <th>3</th>\n",
       "      <td>126.638236</td>\n",
       "      <td>39.773673</td>\n",
       "      <td>33.322457</td>\n",
       "      <td>29.873724</td>\n",
       "      <td>27.964630</td>\n",
       "      <td>24.767813</td>\n",
       "      <td>24.390306</td>\n",
       "      <td>21.460863</td>\n",
       "      <td>19.059788</td>\n",
       "      <td>18.595081</td>\n",
       "      <td>18.010639</td>\n",
       "      <td>16.341309</td>\n",
       "      <td>15.599663</td>\n",
       "      <td>14.783076</td>\n",
       "      <td>14.243716</td>\n",
       "      <td>13.907169</td>\n",
       "      <td>12.807251</td>\n",
       "      <td>11.920285</td>\n",
       "    </tr>\n",
       "    <tr>\n",
       "      <th>4</th>\n",
       "      <td>123.027065</td>\n",
       "      <td>41.626024</td>\n",
       "      <td>34.934312</td>\n",
       "      <td>32.290758</td>\n",
       "      <td>26.811828</td>\n",
       "      <td>24.565546</td>\n",
       "      <td>21.867543</td>\n",
       "      <td>20.449292</td>\n",
       "      <td>20.081728</td>\n",
       "      <td>18.455546</td>\n",
       "      <td>16.761867</td>\n",
       "      <td>15.662295</td>\n",
       "      <td>14.771968</td>\n",
       "      <td>14.278478</td>\n",
       "      <td>13.716672</td>\n",
       "      <td>13.218108</td>\n",
       "      <td>12.922055</td>\n",
       "      <td>12.476587</td>\n",
       "    </tr>\n",
       "    <tr>\n",
       "      <th>5</th>\n",
       "      <td>94.284126</td>\n",
       "      <td>37.852991</td>\n",
       "      <td>35.774941</td>\n",
       "      <td>28.020672</td>\n",
       "      <td>24.046663</td>\n",
       "      <td>22.437847</td>\n",
       "      <td>20.631232</td>\n",
       "      <td>20.363652</td>\n",
       "      <td>17.061520</td>\n",
       "      <td>16.811561</td>\n",
       "      <td>15.611715</td>\n",
       "      <td>15.104080</td>\n",
       "      <td>14.188865</td>\n",
       "      <td>13.109270</td>\n",
       "      <td>12.369351</td>\n",
       "      <td>11.661915</td>\n",
       "      <td>11.059781</td>\n",
       "      <td>10.819781</td>\n",
       "    </tr>\n",
       "    <tr>\n",
       "      <th>6</th>\n",
       "      <td>141.959617</td>\n",
       "      <td>52.194661</td>\n",
       "      <td>37.965846</td>\n",
       "      <td>32.014514</td>\n",
       "      <td>26.285055</td>\n",
       "      <td>25.137240</td>\n",
       "      <td>21.200502</td>\n",
       "      <td>20.935886</td>\n",
       "      <td>19.342891</td>\n",
       "      <td>18.888835</td>\n",
       "      <td>16.460618</td>\n",
       "      <td>15.256177</td>\n",
       "      <td>14.630335</td>\n",
       "      <td>13.548804</td>\n",
       "      <td>12.927611</td>\n",
       "      <td>12.498506</td>\n",
       "      <td>11.910960</td>\n",
       "      <td>11.853664</td>\n",
       "    </tr>\n",
       "    <tr>\n",
       "      <th>7</th>\n",
       "      <td>160.196984</td>\n",
       "      <td>46.710359</td>\n",
       "      <td>36.525125</td>\n",
       "      <td>34.687637</td>\n",
       "      <td>31.495607</td>\n",
       "      <td>22.465547</td>\n",
       "      <td>20.348184</td>\n",
       "      <td>19.192541</td>\n",
       "      <td>17.585415</td>\n",
       "      <td>16.785083</td>\n",
       "      <td>15.250702</td>\n",
       "      <td>14.385379</td>\n",
       "      <td>13.929526</td>\n",
       "      <td>12.973956</td>\n",
       "      <td>12.238269</td>\n",
       "      <td>11.185433</td>\n",
       "      <td>10.939189</td>\n",
       "      <td>10.469037</td>\n",
       "    </tr>\n",
       "    <tr>\n",
       "      <th>8</th>\n",
       "      <td>133.067806</td>\n",
       "      <td>41.643537</td>\n",
       "      <td>34.459963</td>\n",
       "      <td>30.495632</td>\n",
       "      <td>28.716664</td>\n",
       "      <td>25.479007</td>\n",
       "      <td>22.615018</td>\n",
       "      <td>21.891738</td>\n",
       "      <td>20.911898</td>\n",
       "      <td>19.470118</td>\n",
       "      <td>17.731461</td>\n",
       "      <td>17.041839</td>\n",
       "      <td>16.279046</td>\n",
       "      <td>15.649010</td>\n",
       "      <td>15.013789</td>\n",
       "      <td>14.068164</td>\n",
       "      <td>13.808374</td>\n",
       "      <td>13.565801</td>\n",
       "    </tr>\n",
       "    <tr>\n",
       "      <th>9</th>\n",
       "      <td>141.223909</td>\n",
       "      <td>45.725127</td>\n",
       "      <td>30.058437</td>\n",
       "      <td>29.457084</td>\n",
       "      <td>22.934433</td>\n",
       "      <td>20.500314</td>\n",
       "      <td>18.805483</td>\n",
       "      <td>16.976047</td>\n",
       "      <td>15.211704</td>\n",
       "      <td>14.801217</td>\n",
       "      <td>13.884412</td>\n",
       "      <td>13.047194</td>\n",
       "      <td>12.524200</td>\n",
       "      <td>11.833524</td>\n",
       "      <td>11.759370</td>\n",
       "      <td>10.997804</td>\n",
       "      <td>10.244530</td>\n",
       "      <td>9.730679</td>\n",
       "    </tr>\n",
       "  </tbody>\n",
       "</table>\n",
       "</div>"
      ],
      "text/plain": [
       "           0          1          2          3          4          5   \\\n",
       "0  184.447498  97.593884  62.050613  54.149312  41.060201  40.368471   \n",
       "1  234.041517  41.930906  24.849243  16.294807  13.610955  12.521781   \n",
       "2  138.283700  57.397394  46.395696  40.960031  37.505307  33.531600   \n",
       "3  126.638236  39.773673  33.322457  29.873724  27.964630  24.767813   \n",
       "4  123.027065  41.626024  34.934312  32.290758  26.811828  24.565546   \n",
       "5   94.284126  37.852991  35.774941  28.020672  24.046663  22.437847   \n",
       "6  141.959617  52.194661  37.965846  32.014514  26.285055  25.137240   \n",
       "7  160.196984  46.710359  36.525125  34.687637  31.495607  22.465547   \n",
       "8  133.067806  41.643537  34.459963  30.495632  28.716664  25.479007   \n",
       "9  141.223909  45.725127  30.058437  29.457084  22.934433  20.500314   \n",
       "\n",
       "          6          7          8          9          10         11  \\\n",
       "0  36.282942  30.023087  29.001073  24.949545  23.142277  20.029451   \n",
       "1  11.228837  10.668493   8.413382   8.321270   8.040238   7.486697   \n",
       "2  32.237997  28.406120  27.120125  26.734988  24.898081  23.419079   \n",
       "3  24.390306  21.460863  19.059788  18.595081  18.010639  16.341309   \n",
       "4  21.867543  20.449292  20.081728  18.455546  16.761867  15.662295   \n",
       "5  20.631232  20.363652  17.061520  16.811561  15.611715  15.104080   \n",
       "6  21.200502  20.935886  19.342891  18.888835  16.460618  15.256177   \n",
       "7  20.348184  19.192541  17.585415  16.785083  15.250702  14.385379   \n",
       "8  22.615018  21.891738  20.911898  19.470118  17.731461  17.041839   \n",
       "9  18.805483  16.976047  15.211704  14.801217  13.884412  13.047194   \n",
       "\n",
       "          12         13         14         15         16         17  \n",
       "0  19.870917  19.046537  18.360257  17.835228  17.526940  16.693415  \n",
       "1   6.909096   6.213995   6.004267   5.498721   5.275816   4.902657  \n",
       "2  22.442951  21.438898  20.677361  19.333201  18.644012  18.286461  \n",
       "3  15.599663  14.783076  14.243716  13.907169  12.807251  11.920285  \n",
       "4  14.771968  14.278478  13.716672  13.218108  12.922055  12.476587  \n",
       "5  14.188865  13.109270  12.369351  11.661915  11.059781  10.819781  \n",
       "6  14.630335  13.548804  12.927611  12.498506  11.910960  11.853664  \n",
       "7  13.929526  12.973956  12.238269  11.185433  10.939189  10.469037  \n",
       "8  16.279046  15.649010  15.013789  14.068164  13.808374  13.565801  \n",
       "9  12.524200  11.833524  11.759370  10.997804  10.244530   9.730679  "
      ]
     },
     "execution_count": 22,
     "metadata": {},
     "output_type": "execute_result"
    }
   ],
   "source": [
    "#all singular values, of all digits (singular values that are on the main diagonal of Σ, not the matrix Σ)\n",
    "singular_values = pd.DataFrame(svd_computation(X_train, y_train)[1]) \n",
    "singular_values.iloc[:,:18]"
   ]
  },
  {
   "cell_type": "markdown",
   "id": "8c35eef4",
   "metadata": {},
   "source": [
    "Each row of this dataframe is a digit 0-9. The columns printed represent the first 18 basis vectors used for each class."
   ]
  },
  {
   "cell_type": "code",
   "execution_count": 23,
   "id": "40338743",
   "metadata": {
    "ExecuteTime": {
     "end_time": "2022-03-20T12:17:48.707907Z",
     "start_time": "2022-03-20T12:17:48.693899Z"
    }
   },
   "outputs": [
    {
     "data": {
      "text/plain": [
       "0.4213737002636408"
      ]
     },
     "execution_count": 23,
     "metadata": {},
     "output_type": "execute_result"
    }
   ],
   "source": [
    "singular_values.iloc[1,:1].sum() / singular_values.iloc[1,:].sum()"
   ]
  },
  {
   "cell_type": "code",
   "execution_count": 24,
   "id": "00e7e23f",
   "metadata": {
    "ExecuteTime": {
     "end_time": "2022-03-20T12:17:48.802879Z",
     "start_time": "2022-03-20T12:17:48.708895Z"
    },
    "cell_style": "center"
   },
   "outputs": [
    {
     "data": {
      "text/html": [
       "<div>\n",
       "<style scoped>\n",
       "    .dataframe tbody tr th:only-of-type {\n",
       "        vertical-align: middle;\n",
       "    }\n",
       "\n",
       "    .dataframe tbody tr th {\n",
       "        vertical-align: top;\n",
       "    }\n",
       "\n",
       "    .dataframe thead th {\n",
       "        text-align: right;\n",
       "    }\n",
       "</style>\n",
       "<table border=\"1\" class=\"dataframe\">\n",
       "  <thead>\n",
       "    <tr style=\"text-align: right;\">\n",
       "      <th></th>\n",
       "      <th>5</th>\n",
       "      <th>6</th>\n",
       "      <th>7</th>\n",
       "      <th>8</th>\n",
       "      <th>9</th>\n",
       "      <th>10</th>\n",
       "      <th>11</th>\n",
       "      <th>12</th>\n",
       "      <th>13</th>\n",
       "      <th>14</th>\n",
       "      <th>15</th>\n",
       "      <th>16</th>\n",
       "      <th>17</th>\n",
       "      <th>18</th>\n",
       "      <th>19</th>\n",
       "      <th>20</th>\n",
       "    </tr>\n",
       "  </thead>\n",
       "  <tbody>\n",
       "    <tr>\n",
       "      <th>0</th>\n",
       "      <td>28.591630</td>\n",
       "      <td>31.218984</td>\n",
       "      <td>33.580434</td>\n",
       "      <td>35.534465</td>\n",
       "      <td>37.421980</td>\n",
       "      <td>39.045804</td>\n",
       "      <td>40.552002</td>\n",
       "      <td>41.855605</td>\n",
       "      <td>43.148890</td>\n",
       "      <td>44.388520</td>\n",
       "      <td>45.583485</td>\n",
       "      <td>46.744278</td>\n",
       "      <td>47.885007</td>\n",
       "      <td>48.971486</td>\n",
       "      <td>50.030760</td>\n",
       "      <td>51.028542</td>\n",
       "    </tr>\n",
       "    <tr>\n",
       "      <th>1</th>\n",
       "      <td>59.544922</td>\n",
       "      <td>61.799373</td>\n",
       "      <td>63.821038</td>\n",
       "      <td>65.741818</td>\n",
       "      <td>67.256583</td>\n",
       "      <td>68.754763</td>\n",
       "      <td>70.202346</td>\n",
       "      <td>71.550268</td>\n",
       "      <td>72.794197</td>\n",
       "      <td>73.912979</td>\n",
       "      <td>74.994001</td>\n",
       "      <td>75.984003</td>\n",
       "      <td>76.933873</td>\n",
       "      <td>77.816559</td>\n",
       "      <td>78.675951</td>\n",
       "      <td>79.484646</td>\n",
       "    </tr>\n",
       "    <tr>\n",
       "      <th>2</th>\n",
       "      <td>22.384423</td>\n",
       "      <td>24.726035</td>\n",
       "      <td>26.977312</td>\n",
       "      <td>28.960997</td>\n",
       "      <td>30.854877</td>\n",
       "      <td>32.721861</td>\n",
       "      <td>34.460569</td>\n",
       "      <td>36.095994</td>\n",
       "      <td>37.663253</td>\n",
       "      <td>39.160396</td>\n",
       "      <td>40.604358</td>\n",
       "      <td>41.954454</td>\n",
       "      <td>43.256422</td>\n",
       "      <td>44.533420</td>\n",
       "      <td>45.768581</td>\n",
       "      <td>46.950889</td>\n",
       "    </tr>\n",
       "    <tr>\n",
       "      <th>3</th>\n",
       "      <td>27.722722</td>\n",
       "      <td>30.388498</td>\n",
       "      <td>33.013643</td>\n",
       "      <td>35.323490</td>\n",
       "      <td>37.374907</td>\n",
       "      <td>39.376308</td>\n",
       "      <td>41.314805</td>\n",
       "      <td>43.073631</td>\n",
       "      <td>44.752633</td>\n",
       "      <td>46.343745</td>\n",
       "      <td>47.876806</td>\n",
       "      <td>49.373644</td>\n",
       "      <td>50.752097</td>\n",
       "      <td>52.035085</td>\n",
       "      <td>53.299769</td>\n",
       "      <td>54.522305</td>\n",
       "    </tr>\n",
       "    <tr>\n",
       "      <th>4</th>\n",
       "      <td>29.176701</td>\n",
       "      <td>31.947359</td>\n",
       "      <td>34.413720</td>\n",
       "      <td>36.720121</td>\n",
       "      <td>38.985066</td>\n",
       "      <td>41.066600</td>\n",
       "      <td>42.957110</td>\n",
       "      <td>44.723603</td>\n",
       "      <td>46.389679</td>\n",
       "      <td>48.000097</td>\n",
       "      <td>49.547150</td>\n",
       "      <td>51.037972</td>\n",
       "      <td>52.495404</td>\n",
       "      <td>53.902593</td>\n",
       "      <td>55.276656</td>\n",
       "      <td>56.601317</td>\n",
       "    </tr>\n",
       "    <tr>\n",
       "      <th>5</th>\n",
       "      <td>29.600660</td>\n",
       "      <td>32.619920</td>\n",
       "      <td>35.396081</td>\n",
       "      <td>38.136235</td>\n",
       "      <td>40.432051</td>\n",
       "      <td>42.694233</td>\n",
       "      <td>44.794962</td>\n",
       "      <td>46.827382</td>\n",
       "      <td>48.736651</td>\n",
       "      <td>50.500648</td>\n",
       "      <td>52.165081</td>\n",
       "      <td>53.734321</td>\n",
       "      <td>55.222537</td>\n",
       "      <td>56.678458</td>\n",
       "      <td>58.079138</td>\n",
       "      <td>59.407732</td>\n",
       "    </tr>\n",
       "    <tr>\n",
       "      <th>6</th>\n",
       "      <td>32.121478</td>\n",
       "      <td>34.901749</td>\n",
       "      <td>37.246602</td>\n",
       "      <td>39.562187</td>\n",
       "      <td>41.701582</td>\n",
       "      <td>43.790756</td>\n",
       "      <td>45.611360</td>\n",
       "      <td>47.298749</td>\n",
       "      <td>48.916917</td>\n",
       "      <td>50.415465</td>\n",
       "      <td>51.845306</td>\n",
       "      <td>53.227686</td>\n",
       "      <td>54.545082</td>\n",
       "      <td>55.856140</td>\n",
       "      <td>57.105390</td>\n",
       "      <td>58.282896</td>\n",
       "    </tr>\n",
       "    <tr>\n",
       "      <th>7</th>\n",
       "      <td>35.221342</td>\n",
       "      <td>37.776984</td>\n",
       "      <td>40.091757</td>\n",
       "      <td>42.275067</td>\n",
       "      <td>44.275553</td>\n",
       "      <td>46.184995</td>\n",
       "      <td>47.919888</td>\n",
       "      <td>49.556344</td>\n",
       "      <td>51.140943</td>\n",
       "      <td>52.616837</td>\n",
       "      <td>54.009041</td>\n",
       "      <td>55.281476</td>\n",
       "      <td>56.525899</td>\n",
       "      <td>57.716839</td>\n",
       "      <td>58.815740</td>\n",
       "      <td>59.885055</td>\n",
       "    </tr>\n",
       "    <tr>\n",
       "      <th>8</th>\n",
       "      <td>27.142490</td>\n",
       "      <td>29.719263</td>\n",
       "      <td>32.006392</td>\n",
       "      <td>34.220373</td>\n",
       "      <td>36.335260</td>\n",
       "      <td>38.304335</td>\n",
       "      <td>40.097574</td>\n",
       "      <td>41.821070</td>\n",
       "      <td>43.467422</td>\n",
       "      <td>45.050056</td>\n",
       "      <td>46.568448</td>\n",
       "      <td>47.991207</td>\n",
       "      <td>49.387691</td>\n",
       "      <td>50.759644</td>\n",
       "      <td>52.077855</td>\n",
       "      <td>53.322075</td>\n",
       "    </tr>\n",
       "    <tr>\n",
       "      <th>9</th>\n",
       "      <td>35.987591</td>\n",
       "      <td>38.726120</td>\n",
       "      <td>41.238246</td>\n",
       "      <td>43.505986</td>\n",
       "      <td>45.538038</td>\n",
       "      <td>47.515254</td>\n",
       "      <td>49.370000</td>\n",
       "      <td>51.112906</td>\n",
       "      <td>52.785947</td>\n",
       "      <td>54.366726</td>\n",
       "      <td>55.937598</td>\n",
       "      <td>57.406736</td>\n",
       "      <td>58.775249</td>\n",
       "      <td>60.075119</td>\n",
       "      <td>61.326497</td>\n",
       "      <td>62.562469</td>\n",
       "    </tr>\n",
       "  </tbody>\n",
       "</table>\n",
       "</div>"
      ],
      "text/plain": [
       "          5          6          7          8          9          10  \\\n",
       "0  28.591630  31.218984  33.580434  35.534465  37.421980  39.045804   \n",
       "1  59.544922  61.799373  63.821038  65.741818  67.256583  68.754763   \n",
       "2  22.384423  24.726035  26.977312  28.960997  30.854877  32.721861   \n",
       "3  27.722722  30.388498  33.013643  35.323490  37.374907  39.376308   \n",
       "4  29.176701  31.947359  34.413720  36.720121  38.985066  41.066600   \n",
       "5  29.600660  32.619920  35.396081  38.136235  40.432051  42.694233   \n",
       "6  32.121478  34.901749  37.246602  39.562187  41.701582  43.790756   \n",
       "7  35.221342  37.776984  40.091757  42.275067  44.275553  46.184995   \n",
       "8  27.142490  29.719263  32.006392  34.220373  36.335260  38.304335   \n",
       "9  35.987591  38.726120  41.238246  43.505986  45.538038  47.515254   \n",
       "\n",
       "          11         12         13         14         15         16  \\\n",
       "0  40.552002  41.855605  43.148890  44.388520  45.583485  46.744278   \n",
       "1  70.202346  71.550268  72.794197  73.912979  74.994001  75.984003   \n",
       "2  34.460569  36.095994  37.663253  39.160396  40.604358  41.954454   \n",
       "3  41.314805  43.073631  44.752633  46.343745  47.876806  49.373644   \n",
       "4  42.957110  44.723603  46.389679  48.000097  49.547150  51.037972   \n",
       "5  44.794962  46.827382  48.736651  50.500648  52.165081  53.734321   \n",
       "6  45.611360  47.298749  48.916917  50.415465  51.845306  53.227686   \n",
       "7  47.919888  49.556344  51.140943  52.616837  54.009041  55.281476   \n",
       "8  40.097574  41.821070  43.467422  45.050056  46.568448  47.991207   \n",
       "9  49.370000  51.112906  52.785947  54.366726  55.937598  57.406736   \n",
       "\n",
       "          17         18         19         20  \n",
       "0  47.885007  48.971486  50.030760  51.028542  \n",
       "1  76.933873  77.816559  78.675951  79.484646  \n",
       "2  43.256422  44.533420  45.768581  46.950889  \n",
       "3  50.752097  52.035085  53.299769  54.522305  \n",
       "4  52.495404  53.902593  55.276656  56.601317  \n",
       "5  55.222537  56.678458  58.079138  59.407732  \n",
       "6  54.545082  55.856140  57.105390  58.282896  \n",
       "7  56.525899  57.716839  58.815740  59.885055  \n",
       "8  49.387691  50.759644  52.077855  53.322075  \n",
       "9  58.775249  60.075119  61.326497  62.562469  "
      ]
     },
     "execution_count": 24,
     "metadata": {},
     "output_type": "execute_result"
    }
   ],
   "source": [
    "percentages = pd.DataFrame()\n",
    "\n",
    "for k in range(5,21):\n",
    "    per = []\n",
    "    for i in range(0,10):\n",
    "        #each iteration should do 9 praxeis\n",
    "        per.append(100*(singular_values.iloc[i,:k].sum() / singular_values.iloc[i,:].sum()))     \n",
    "    percentages[k] = per\n",
    "        \n",
    "percentages #rows=digits, columns = numbwer of basis vectors"
   ]
  },
  {
   "cell_type": "code",
   "execution_count": 32,
   "id": "f4910d98",
   "metadata": {
    "ExecuteTime": {
     "end_time": "2022-03-20T12:20:42.897709Z",
     "start_time": "2022-03-20T12:20:42.488839Z"
    },
    "cell_style": "center",
    "scrolled": true
   },
   "outputs": [
    {
     "data": {
      "text/plain": [
       "(0.0, 3.0)"
      ]
     },
     "execution_count": 32,
     "metadata": {},
     "output_type": "execute_result"
    },
    {
     "data": {
      "image/png": "[encoded data removed]",
      "text/plain": [
       "<Figure size 864x288 with 1 Axes>"
      ]
     },
     "metadata": {},
     "output_type": "display_data"
    }
   ],
   "source": [
    "plt.figure(figsize=(12,4))\n",
    "sns.lineplot(data=singular_values.T)\n",
    "plt.xlim(0,3)"
   ]
  },
  {
   "cell_type": "markdown",
   "id": "aa35e0e0",
   "metadata": {
    "cell_style": "center"
   },
   "source": [
    "It looks like only the digit 1 uses a big percentage of the information given in order to be classified. Additionally, as seen from the plot above, it seems like most of the information about each digit is gathered in the first 10 basis vectors. Then, all singular vectors seem to have equally small values. I will try using fewer basis vectors in the classes that provide a lot of information for k=18 basis vectors: these are digit 1(79.48%) and digit 9(62.56%)."
   ]
  },
  {
   "cell_type": "code",
   "execution_count": 26,
   "id": "94cfa4fa",
   "metadata": {
    "ExecuteTime": {
     "end_time": "2022-03-20T12:17:49.167900Z",
     "start_time": "2022-03-20T12:17:49.153904Z"
    }
   },
   "outputs": [],
   "source": [
    "#Classification: For a given test digit, compute its relative residual in all 10 bases. If one residual is significantly smaller than all the others, classify as that. Otherwise give up.\n",
    "def alternative_classification(X, y, basis):\n",
    "    \n",
    "    I = np.eye(X.shape[1])\n",
    "    predictions = []\n",
    "    \n",
    "    for image in range(X.shape[0]): #X.shape[0] -- 2007 images\n",
    "        #iterate through all images \n",
    "        errors = []\n",
    "        \n",
    "        for j in range(len(y.iloc[:,0].unique())):\n",
    "            z = X.iloc[image,:]\n",
    "            if j == 1:\n",
    "                error = np.linalg.norm((I - u_k[j][:,:5].dot(u_k[j][:,:5].T)).dot(z), 2)\n",
    "                errors.append(error)\n",
    "            elif j == 9:\n",
    "                error = np.linalg.norm((I - u_k[j][:,:5].dot(u_k[j][:,:5].T)).dot(z), 2)\n",
    "                errors.append(error)\n",
    "            else:\n",
    "                error = np.linalg.norm((I - u_k[j][:,:basis].dot(u_k[j][:,:basis].T)).dot(z), 2)\n",
    "                errors.append(error)\n",
    "            \n",
    "        predictions.append(np.argmin(errors))\n",
    "            \n",
    "    return np.asarray(predictions)"
   ]
  },
  {
   "cell_type": "code",
   "execution_count": 27,
   "id": "3d18b8b0",
   "metadata": {
    "ExecuteTime": {
     "end_time": "2022-03-20T12:17:59.808145Z",
     "start_time": "2022-03-20T12:17:49.278811Z"
    }
   },
   "outputs": [
    {
     "data": {
      "text/plain": [
       "0.9172894867962132"
      ]
     },
     "execution_count": 27,
     "metadata": {},
     "output_type": "execute_result"
    }
   ],
   "source": [
    "predictions = alternative_classification(X_test, y_test, ideal_basis)\n",
    "accuracy_score(predictions, y_test)"
   ]
  },
  {
   "cell_type": "markdown",
   "id": "92b4e4e1",
   "metadata": {},
   "source": [
    "The accuracy of this classification process is worse than the initial one. As a result, we can't assume that this method pays off."
   ]
  },
  {
   "cell_type": "markdown",
   "id": "50bca061",
   "metadata": {},
   "source": [
    "#### TWO-STAGE ALGORITHM WITH SVD"
   ]
  },
  {
   "cell_type": "markdown",
   "id": "c3653d8c",
   "metadata": {},
   "source": [
    "In order to save operations in the test phase, implement a two-stage algorithm: In the first stage compare the unknown digit only to the first singular vector in each class. If for one class the residual is significantly smaller than for the others, classify as that class. Otherwise perform the algorithm above. Is it possible to get as good results for this variant? How frequently is the second stage unnecessary?"
   ]
  },
  {
   "cell_type": "code",
   "execution_count": 28,
   "id": "d036fd68",
   "metadata": {
    "ExecuteTime": {
     "end_time": "2022-03-20T12:17:59.824143Z",
     "start_time": "2022-03-20T12:17:59.809131Z"
    }
   },
   "outputs": [],
   "source": [
    "#Classification: For a given test digit, compute its relative residual in all 10 bases. If one residual is significantly smaller than all the others, classify as that. Otherwise give up.\n",
    "def two_stage_classification(X, y, basis):\n",
    "    \n",
    "    I = np.eye(X.shape[1])\n",
    "    count_1 = 0\n",
    "    count_2 = 0\n",
    "    predictions = []\n",
    "    \n",
    "    for image in range(X.shape[0]): #X.shape[0] -- 2007 images\n",
    "        #iterate through all images\n",
    "        errors_1 = []\n",
    "        errors_2 = []\n",
    "        errors = []\n",
    "        for j in range(len(y.iloc[:,0].unique())): #go through all classes\n",
    "            z = X.iloc[image,:] #grab image\n",
    "            error_1 = np.linalg.norm((I - u_k[j][:,:1].dot(u_k[j][:,:1].T)).dot(z), 2)\n",
    "            error_2 = np.linalg.norm((I - u_k[j][:,:basis].dot(u_k[j][:,:basis].T)).dot(z), 2)\n",
    "            errors_1.append(error_1)\n",
    "            errors_2.append(error_2) \n",
    "         \n",
    "        if np.sort(errors_1)[0] < np.sort(errors_1)[1] - 3: #at least 3 difference\n",
    "            predictions.append(np.argmin(errors_1))\n",
    "            count_1 += 1\n",
    "\n",
    "        else:\n",
    "            #iterate through u vectors of each digits and calculate 10 errors\n",
    "            predictions.append(np.argmin(errors_2))\n",
    "            count_2 += 1\n",
    "        \n",
    "    print(f\"Total number of predictions: {y.shape[0]}.\\nOnly the first singular vector was used for {count_1} predictions, whereas {basis} singular vectors were used for {count_2} predictions.\")\n",
    "    return np.asarray(predictions)"
   ]
  },
  {
   "cell_type": "code",
   "execution_count": 29,
   "id": "10b71254",
   "metadata": {
    "ExecuteTime": {
     "end_time": "2022-03-20T12:18:16.469455Z",
     "start_time": "2022-03-20T12:17:59.826125Z"
    }
   },
   "outputs": [
    {
     "name": "stdout",
     "output_type": "stream",
     "text": [
      "Total number of predictions: 2007.\n",
      "Only the first singular vector was used for 460 predictions, whereas 18 singular vectors were used for 1547 predictions.\n"
     ]
    },
    {
     "data": {
      "text/plain": [
       "0.9417040358744395"
      ]
     },
     "execution_count": 29,
     "metadata": {},
     "output_type": "execute_result"
    }
   ],
   "source": [
    "predictions = two_stage_classification(X_test, y_test, ideal_basis)\n",
    "accuracy_score(predictions, y_test)"
   ]
  }
 ],
 "metadata": {
  "kernelspec": {
   "display_name": "Python 3 (ipykernel)",
   "language": "python",
   "name": "python3"
  },
  "language_info": {
   "codemirror_mode": {
    "name": "ipython",
    "version": 3
   },
   "file_extension": ".py",
   "mimetype": "text/x-python",
   "name": "python",
   "nbconvert_exporter": "python",
   "pygments_lexer": "ipython3",
   "version": "3.10.0"
  },
  "varInspector": {
   "cols": {
    "lenName": 16,
    "lenType": 16,
    "lenVar": 40
   },
   "kernels_config": {
    "python": {
     "delete_cmd_postfix": "",
     "delete_cmd_prefix": "del ",
     "library": "var_list.py",
     "varRefreshCmd": "print(var_dic_list())"
    },
    "r": {
     "delete_cmd_postfix": ") ",
     "delete_cmd_prefix": "rm(",
     "library": "var_list.r",
     "varRefreshCmd": "cat(var_dic_list()) "
    }
   },
   "types_to_exclude": [
    "module",
    "function",
    "builtin_function_or_method",
    "instance",
    "_Feature"
   ],
   "window_display": false
  }
 },
 "nbformat": 4,
 "nbformat_minor": 5
}
